{
 "cells": [
  {
   "cell_type": "markdown",
   "metadata": {},
   "source": [
    "# Ejercicio - Escribir declaraciones if, else, y elif"
   ]
  },
  {
   "cell_type": "markdown",
   "metadata": {},
   "source": [
    "_Luis Fabián Vázquez Rodríguez_"
   ]
  },
  {
   "cell_type": "markdown",
   "metadata": {},
   "source": [
    "Para este ejercicio, escribirás una lógica condicional que imprima una advertencia si un asteroide se acerca a la Tierra demasiado rápido. La velocidad del asteroide varía dependiendo de lo cerca que esté del sol, y cualquier velocidad superior a 25 kilómetros por segundo (km/s) merece una advertencia.\n",
    "\n",
    "Un asteroide se acerca, y viaja a una velocidad de 49 km/s."
   ]
  },
  {
   "cell_type": "code",
   "execution_count": 3,
   "metadata": {},
   "outputs": [
    {
     "name": "stdout",
     "output_type": "stream",
     "text": [
      "ADVERTENCIA ASTEROIDE INMINENTE\n",
      "VELOCIDAD DEL ASTEROIDE: 49 Km/s\n"
     ]
    }
   ],
   "source": [
    "velocidad_asteroideKMS = 49\n",
    "if velocidad_asteroideKMS > 25:\n",
    "    #Si el if arroja un true entonces se imprimirá la advertencia.\n",
    "    print(\"ADVERTENCIA ASTEROIDE INMINENTE\")\n",
    "    print(\"VELOCIDAD DEL ASTEROIDE: \"+str(velocidad_asteroideKMS)+\" Km/s\")\n",
    "    #si arroja un false, entonces no se imprimirá nada."
   ]
  },
  {
   "cell_type": "markdown",
   "metadata": {},
   "source": [
    "Si un asteroide entra en la atmósfera de la Tierra a una velocidad mayor o igual a 20 km/s, a veces produce un rayo de luz que se puede ver desde la Tierra. Escribe la lógica condicional que usa declaraciones if, else, y elif para alertar a las personas de todo el mundo que deben buscar un asteroide en el cielo. ¡Hay uno que se dirige a la tierra ahora a una velocidad de 19 km/s!\n",
    "\n"
   ]
  },
  {
   "cell_type": "code",
   "execution_count": 15,
   "metadata": {},
   "outputs": [
    {
     "name": "stdout",
     "output_type": "stream",
     "text": [
      "NO HA SIDO POSIBLE LOCALIZAR EL ASTEROIDE\n"
     ]
    }
   ],
   "source": [
    "velocidad_asteroideKMS=19\n",
    "if velocidad_asteroideKMS>20:\n",
    "    #Si el if arroja un true entonces indicará que el asteroide es visible en el cielo.\n",
    "    print(\"ASTEROIDE LOCALIZADO EN EL CIELO\")\n",
    "elif 20==velocidad_asteroideKMS:\n",
    "    #Si el elif arroja un true indicará que el asteroide es apenas visible.\n",
    "    print(\"ASTEROIDE APENAS VISIBLE LOCALIZADO\")\n",
    "else:\n",
    "    print(\"NO HA SIDO POSIBLE LOCALIZAR EL ASTEROIDE\")\n",
    "    #Si el if y el elif arrojan un false indicará que no se puede ver el asteroide."
   ]
  },
  {
   "cell_type": "markdown",
   "metadata": {},
   "source": [
    "## Ejercicio: Uso de operadores and y or"
   ]
  },
  {
   "cell_type": "markdown",
   "metadata": {},
   "source": [
    "En este ejercicio, aprenderás información más matizada sobre cuándo los asteroides representan un peligro para la Tierra, y utilizarás esa información para mejorar nuestro sistema de advertencia. Aquí está la nueva información que necesitas saber:\n",
    "\n",
    "*Los asteroides de menos de 25 metros en su dimensión más grande probablemente se quemarán a medida que entren en la atmósfera de la Tierra.\n",
    "\n",
    "Si una pieza de un asteroide que es más grande que 25 metros pero más pequeña que 1000 metros golpeara la Tierra, causaría mucho daño.\n",
    "También discutimos en el ejercicio anterior que:\n",
    "\n",
    "La velocidad del asteroide varía en función de lo cerca que esté del sol, y cualquier velocidad superior a 25 kilómetros por segundo (km/s) merece una advertencia.\n",
    "Si un asteroide entra en la atmósfera de la Tierra a una velocidad mayor o igual a 20 km/s, a veces produce un rayo de luz que se puede ver desde la Tierra."
   ]
  },
  {
   "cell_type": "code",
   "execution_count": 15,
   "metadata": {},
   "outputs": [
    {
     "name": "stdout",
     "output_type": "stream",
     "text": [
      "Se apróxima un asteroide a la tierra, pero se calcula que este se quemará durante su trayectoria en la atmosfera.\n"
     ]
    }
   ],
   "source": [
    "Tamano_Asteroide=20\n",
    "velocidad_asteroideKMS=22\n",
    "if Tamano_Asteroide>25 and Tamano_Asteroide<1000 and velocidad_asteroideKMS>25:\n",
    "    print(\"ADVERTENCIA EL INMINENTE ASTEROIDE SE DIRIGE A LA TIERRA CON UNA VELOCIDAD DE \"+str(velocidad_asteroideKMS)+\" Y SE CALCULA QUE CAUSARÁ DAÑOS MAYORES, FUE LOCALIZADO GRACIAS A LA LUZ EMITIDA POR SU VELOCIDAD.\")\n",
    "elif Tamano_Asteroide>25 and Tamano_Asteroide<1000 and velocidad_asteroideKMS<25 and velocidad_asteroideKMS>20:\n",
    "    print(\"INMINENTE ASTEROIDE SE DIRIGE A LA TIERRA CON UNA VELOCIDAD DE \"+str(velocidad_asteroideKMS)+\" Y SE CALCULA QUE CAUSARÁ DAÑOS MAYORES, FUE LOCALIZADO GRACIAS A LA LUZ EMITIDA POR SU VELOCIDAD.\")\n",
    "elif Tamano_Asteroide>25 and Tamano_Asteroide<1000 and velocidad_asteroideKMS<20:\n",
    "    print(\"INMINENTE ASTEROIDE SE DIRIGE A LA TIERRA CON UNA VELOCIDAD DE \"+str(velocidad_asteroideKMS)+\" Y SE CALCULA QUE CAUSARÁ DAÑOS MAYORES, SIGUE SIN SER LOCALIZADO EN EL CIELO.\")\n",
    "else:\n",
    "    print(\"Se apróxima un asteroide a la tierra, pero se calcula que este se quemará durante su trayectoria en la atmosfera.\")\n"
   ]
  }
 ],
 "metadata": {
  "interpreter": {
   "hash": "b89b5cfaba6639976dc87ff2fec6d58faec662063367e2c229c520fe71072417"
  },
  "kernelspec": {
   "display_name": "Python 3.10.2 64-bit",
   "language": "python",
   "name": "python3"
  },
  "language_info": {
   "codemirror_mode": {
    "name": "ipython",
    "version": 3
   },
   "file_extension": ".py",
   "mimetype": "text/x-python",
   "name": "python",
   "nbconvert_exporter": "python",
   "pygments_lexer": "ipython3",
   "version": "3.10.2"
  },
  "orig_nbformat": 4
 },
 "nbformat": 4,
 "nbformat_minor": 2
}
