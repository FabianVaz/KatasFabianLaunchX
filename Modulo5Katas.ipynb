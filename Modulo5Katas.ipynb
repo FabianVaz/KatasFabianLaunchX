{
 "cells": [
  {
   "cell_type": "markdown",
   "metadata": {},
   "source": [
    "# Ejercicio1 - Utilizar operadores aritméticos\n",
    "\n",
    "_Luis Fabián Vázquez Rodríguez_"
   ]
  },
  {
   "cell_type": "code",
   "execution_count": 1,
   "metadata": {},
   "outputs": [],
   "source": [
    "Tierra=149597870 \n",
    "Júpiter=778547200"
   ]
  },
  {
   "cell_type": "markdown",
   "metadata": {},
   "source": [
    "### Realizar la operación\n",
    "\n",
    "Con los valores obtenidos, es el momento de añadir el código para realizar la operación. Restarás el primer planeta del segundo para determinar la distancia en kilómetros. A continuación, puedes convertir la distancia del kilómetro en millas multiplicándola por `0.621`."
   ]
  },
  {
   "cell_type": "code",
   "execution_count": 2,
   "metadata": {},
   "outputs": [
    {
     "name": "stdout",
     "output_type": "stream",
     "text": [
      "-628949330\n",
      "-390577533.93\n"
     ]
    }
   ],
   "source": [
    "DistanciaKM=Tierra -Júpiter\n",
    "DistanciaMI=DistanciaKM*0.621\n",
    "print(DistanciaKM)\n",
    "print(str(DistanciaMI))"
   ]
  },
  {
   "cell_type": "markdown",
   "metadata": {},
   "source": [
    "## Ejercicio 2: convierte cadenas en números y usa valores absolutos\n",
    "\n",
    "### Crear una aplicación para trabajar con números y entrada de usuario\n",
    "Con frecuencia, deberás convertir los valores de cadena en números para realizar correctamente diferentes operaciones o determinar el valor absoluto de un número.\n",
    "\n",
    "Para crear nuestra aplicación, queremos leer la distancia del sol para dos planetas, y luego mostrar la distancia entre los planetas. Haremos esto usando `input` para leer los valores, `int` para convertir a entero y luego `abs` para convertir el resultado en su valor absoluto.\n"
   ]
  },
  {
   "cell_type": "code",
   "execution_count": 4,
   "metadata": {},
   "outputs": [
    {
     "name": "stdout",
     "output_type": "stream",
     "text": [
      "La distancia del primer planeta al sol es: 149597870 Km\n",
      "La distancia del segundo planeta al sol es: 778547200 Km\n"
     ]
    }
   ],
   "source": [
    "planeta_1=int(input(\"¿Cuál es la distancia del primer planeta al sol?\"))\n",
    "planeta_2=int(input(\"¿Cuál es la distancia del segundo planeta al sol?\"))\n",
    "print(\"La distancia del primer planeta al sol es: \"+str(planeta_1)+\" Km\")\n",
    "print(\"La distancia del segundo planeta al sol es: \"+str(planeta_2)+\" Km\")"
   ]
  },
  {
   "cell_type": "code",
   "execution_count": 5,
   "metadata": {},
   "outputs": [
    {
     "name": "stdout",
     "output_type": "stream",
     "text": [
      "La distancia entre dichos planetas es de: -628949330 Km\n"
     ]
    }
   ],
   "source": [
    "print(\"La distancia entre dichos planetas es de: \"+str(planeta_1-planeta_2)+\" Km\")\n"
   ]
  },
  {
   "cell_type": "code",
   "execution_count": 6,
   "metadata": {},
   "outputs": [
    {
     "name": "stdout",
     "output_type": "stream",
     "text": [
      "La distancia entre dichos planetas es de: -390577533.93 MI\n",
      "La distancia entre dichos planetas es de: 390577533.93 MI\n"
     ]
    }
   ],
   "source": [
    "print(\"La distancia entre dichos planetas es de: \"+str(((planeta_1-planeta_2)*0.621))+\" MI\")\n",
    "print(\"La distancia entre dichos planetas es de: \"+str(abs(planeta_1-planeta_2)*0.621)+\" MI\")"
   ]
  }
 ],
 "metadata": {
  "interpreter": {
   "hash": "b89b5cfaba6639976dc87ff2fec6d58faec662063367e2c229c520fe71072417"
  },
  "kernelspec": {
   "display_name": "Python 3.10.2 64-bit",
   "language": "python",
   "name": "python3"
  },
  "language_info": {
   "codemirror_mode": {
    "name": "ipython",
    "version": 3
   },
   "file_extension": ".py",
   "mimetype": "text/x-python",
   "name": "python",
   "nbconvert_exporter": "python",
   "pygments_lexer": "ipython3",
   "version": "3.10.2"
  },
  "orig_nbformat": 4
 },
 "nbformat": 4,
 "nbformat_minor": 2
}
